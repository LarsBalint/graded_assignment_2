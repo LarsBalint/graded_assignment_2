{
 "cells": [
  {
   "cell_type": "markdown",
   "metadata": {},
   "source": [
    "# Graded Assignment 2 - Air Quality and Weather in the Netherlands"
   ]
  },
  {
   "cell_type": "markdown",
   "metadata": {},
   "source": [
    "\n",
    "# Introduction to This Template Notebook\n",
    "\n",
    "* This is a **group** notebook.\n",
    "* Make sure you work in a **copy** of `...-template.ipynb`,\n",
    "**renamed** to `...-yourIDnrs.ipynb`,\n",
    "where `yourIDnrs` is the TU/e identification numbers of the members of the group.\n",
    "\n",
    "<div class=\"alert alert-danger\" role=\"danger\">\n",
    "<h3>Integrity</h3>\n",
    "<ul>\n",
    "    <li>In this course you must act according to the rules of the TU/e code of scientific conduct.</li>\n",
    "    <li>This exercise or graded assignment is to be executed by the members of the group independently from other people.</li>\n",
    "    <li>You must not copy from the Internet, your friends, books... If you represent other people's work as your own, then that constitutes fraud and will be reported to the Examination Committee.</li>\n",
    "    <li>Making your work available to others (complicity) also constitutes fraud.</li>\n",
    "</ul>\n",
    "</div>\n",
    "\n",
    "You are expected to work with Python code and Markdown in this notebook.\n",
    "\n",
    "Proceed in this notebook as follows:\n",
    "* **Read** the assignment (separate PDF).\n",
    "* **Write** your decisions/solutions/interpretations in the appropriate sections.\n",
    "  * For this you can use both Code and Markdown cells. Information about how to use these cells is available in the _Getting Started_ assignment.\n",
    "* **Run** _all_ code cells (also the ones _without_ your code),\n",
    "    _in linear order_ from the first code cell.\n",
    "\n",
    "**Personalize your notebook**:\n",
    "1. Copy the following line of code:\n",
    "\n",
    "  ```python\n",
    "  AUTHOR_ID_NRS = ['1234567', '2234567', '3234567', '4234567']\n",
    "  ```\n",
    "1. Paste them between the marker lines in the next code cell.\n",
    "1. Fill in the _identification numbers_ of all members of the group as a list of strings between the `Author` markers.\n",
    "1. Run the code cell by putting the cursor there and typing **Control-Enter**.\n"
   ]
  },
  {
   "cell_type": "code",
   "execution_count": 1,
   "metadata": {},
   "outputs": [],
   "source": [
    "#// BEGIN_TODO [Author] Name, Id.nr., Date, as strings (1 point)\n",
    "\n",
    "AUTHOR_ID_NRS = ['2047810', '2040999', '1934783', '1999540']\n",
    "\n",
    "#// END_TODO [Author]"
   ]
  },
  {
   "cell_type": "markdown",
   "metadata": {},
   "source": [
    "## Table of Contents\n",
    "\n",
    "- [Preparation](#Preparation)\n",
    "    - [Load the libraries](#Load-the-libraries)\n",
    "- [Part 1a. Hypothesis selection](#Part-1a:-Hypothesis-selection)\n",
    "- [Part 1b. Hypothesis refinement](#Part-1b:-Hypothesis-refinement)\n",
    "- [Part 2. Queries and data cleaning](#Part-2:-Queries-and-data-cleaning)\n",
    "- [Part 3. Hypothesis testing and interpretation](#Part-3.-Hypothesis-testing-and-interpretation)\n",
    "- [Part 4. Pitching results](#Part-4.-Pitching-results)"
   ]
  },
  {
   "cell_type": "markdown",
   "metadata": {},
   "source": [
    "## Preparation\n",
    "### Load the libraries"
   ]
  },
  {
   "cell_type": "code",
   "execution_count": 2,
   "metadata": {},
   "outputs": [],
   "source": [
    "import numpy as np\n",
    "import pandas as pd\n",
    "\n",
    "from sklearn.linear_model import LinearRegression         # for linear regression\n",
    "from sklearn.cluster import KMeans                        # for clustering\n",
    "from sklearn.tree import DecisionTreeClassifier           # for decision tree mining\n",
    "from sklearn.metrics import mean_absolute_error, confusion_matrix\n",
    "from sklearn.model_selection import train_test_split\n",
    "from treeviz import tree_print                            # to print decision tree\n",
    "\n",
    "import scipy.stats as stats                               # to compute z-scores\n",
    "from scipy.interpolate import interp1d\n",
    "from scipy.ndimage import gaussian_filter1d\n",
    "import sqlite3                                            # to interact with the database\n",
    "import statsmodels.api as sm\n",
    "from statsmodels.distributions.empirical_distribution import ECDF\n",
    "\n",
    "%matplotlib inline                                 \n",
    "import matplotlib as mpl\n",
    "import matplotlib.pyplot as plt\n",
    "import seaborn as sns                                     # also improves the look of plots\n",
    "sns.set()\n",
    "plt.rcParams['figure.figsize'] = 10, 5                    # default hor./vert. size of plots, in inches\n",
    "plt.rcParams['lines.markeredgewidth'] = 1                 # to fix issue with seaborn box plots; needed after import seaborn"
   ]
  },
  {
   "cell_type": "markdown",
   "metadata": {
    "tags": []
   },
   "source": [
    "## Part 1a: Hypothesis selection"
   ]
  },
  {
   "cell_type": "markdown",
   "metadata": {},
   "source": [
    "Our three hyptheses are:\n",
    "\n",
    "- 1: O3 levels rise due to weather factors that increase in the summer (humidity, temperature, sunlight duration).\n",
    "    We found this interesting as Ozone levels in the atmosphere have been a big issue for the climate in the past, and we wanted to know how the weather can affect it.\n",
    "- 2: pm_10 levels are affected by windspeed and temperature.\n",
    "    This was one of the hypothesis we found in our individual assignements and we wanted to find out if there was any further research that could be done on this topic.\n",
    "- 3: pm_10 levels decrease with rainfall and precipitation.\n",
    "    This was one of the hypothesis we found in our individual assignements and we wanted to find out if there was any further research that could be done on this topic."
   ]
  },
  {
   "cell_type": "markdown",
   "metadata": {},
   "source": [
    "## Part 1b: Hypothesis refinement"
   ]
  },
  {
   "cell_type": "markdown",
   "metadata": {},
   "source": [
    "Original: O3 levels rise due to weather factors that increase in the summer ( Humidity / Temperature / Sun Duration)\n",
    "    \n",
    "Refined: O3 Levels rise in the summer due to an increase in humidity and temperature.\n",
    "\n",
    "Proposition of hypothesis: \n",
    "We looked at the posters from GA1 and exchanged our respective conclusions. From this we discovered the possibility that O3 is affected by humidity and temperature, and wrote down our original hypothesis.\n",
    "\n",
    "We removed precipitation, because the data is hard to work with and it can be tedious to find good connections. Then we also removed sun duration from the hypothesis, because having four different factors to look into is going to be too complicated for the time span we are given for this assignment.\n",
    "\n",
    "After that, we tried to pick an Air Quality and a Weather station that is located further inland to decrease the effect of the sea on the climate as much as possible (The sea warms the air in the winter and cools the air in the summer which will result in less difference in temperature, The sea also causes more rain in general which will also decrease less difference in humidity).\n",
    "\n",
    "We chose this specific weather station, because it not in, or close to, a big city so that our data is minimally impacted by the pollution of urban areas. The weather station does not need to be really close to the measuring station, temperature and humidity will have minimal fluctuation over a distance of 10-20km."
   ]
  },
  {
   "cell_type": "markdown",
   "metadata": {},
   "source": [
    "## Part 2: Queries and data cleaning"
   ]
  },
  {
   "cell_type": "code",
   "execution_count": null,
   "metadata": {},
   "outputs": [],
   "source": [
    "# Use this cell as you like, and add more cells as needed."
   ]
  },
  {
   "cell_type": "markdown",
   "metadata": {},
   "source": [
    "## Part 3. Hypothesis testing and interpretation"
   ]
  },
  {
   "cell_type": "code",
   "execution_count": null,
   "metadata": {},
   "outputs": [],
   "source": [
    "# Use this cell as you like, and add more cells as needed."
   ]
  },
  {
   "cell_type": "markdown",
   "metadata": {},
   "source": [
    "## Part 4. Polishing and pitching results"
   ]
  },
  {
   "cell_type": "code",
   "execution_count": null,
   "metadata": {},
   "outputs": [],
   "source": [
    "# This section is only for generating figures if you need it. You may leave it empty."
   ]
  },
  {
   "cell_type": "markdown",
   "metadata": {},
   "source": [
    "# Feedback\n",
    "\n",
    "Please fill in this questionaire to help us improve this course for the next year. Your feedback will be anonymized and will not affect your grade in any way!"
   ]
  },
  {
   "cell_type": "markdown",
   "metadata": {},
   "source": [
    "### How many hours did you spend on these exercises?\n",
    "\n",
    "Assign a number to `feedback_time`."
   ]
  },
  {
   "cell_type": "code",
   "execution_count": null,
   "metadata": {},
   "outputs": [],
   "source": [
    "#// BEGIN_FEEDBACK [Feedback_1] (0 point)\n",
    "\n",
    "#// END_FEEDBACK [Feedback_1] (0 point)\n",
    "\n",
    "import numbers\n",
    "\n",
    "assert isinstance(feedback_time, numbers.Number), \"Please assign a number to feedback_time\"\n",
    "print(feedback_time)"
   ]
  },
  {
   "cell_type": "markdown",
   "metadata": {},
   "source": [
    "### How difficult did you find these exercises?\n",
    "\n",
    "Assign an integer to `feedback_difficulty`, on a scale 0 - 10, with 0 being very easy, 5 being just right, and 10 being very difficult."
   ]
  },
  {
   "cell_type": "code",
   "execution_count": null,
   "metadata": {},
   "outputs": [],
   "source": [
    "#// BEGIN_FEEDBACK [Feedback_2] (0 point)\n",
    "\n",
    "#// END_FEEDBACK [Feedback_2] (0 point)\n",
    "\n",
    "import numbers\n",
    "\n",
    "assert isinstance(feedback_difficulty, numbers.Number), \"Please assign a number to feedback_difficulty\"\n",
    "print(feedback_difficulty)"
   ]
  },
  {
   "cell_type": "markdown",
   "metadata": {},
   "source": [
    "### (Optional) What did you like?\n",
    "\n",
    "Assign a string to `feedback_like`."
   ]
  },
  {
   "cell_type": "code",
   "execution_count": null,
   "metadata": {},
   "outputs": [],
   "source": [
    "#// BEGIN_FEEDBACK [Feedback_3] (0 point)\n",
    "\n",
    "#// END_FEEDBACK [Feedback_3] (0 point)"
   ]
  },
  {
   "cell_type": "markdown",
   "metadata": {},
   "source": [
    "### (Optional) What can be improved?\n",
    "\n",
    "Assign a string to `feedback_improve`. Please be specific, so that we can act on your feedback. For example, mention the specific exercises and what was unclear."
   ]
  },
  {
   "cell_type": "code",
   "execution_count": null,
   "metadata": {},
   "outputs": [],
   "source": [
    "#// BEGIN_FEEDBACK [Feedback_4] (0 point)\n",
    "\n",
    "#// END_FEEDBACK [Feedback_4] (0 point)"
   ]
  },
  {
   "cell_type": "markdown",
   "metadata": {},
   "source": [
    "\n",
    "\n",
    "\n",
    "## How to Submit Your Work\n",
    "\n",
    "1. **Before submitting**, you must run your notebook by doing **Kernel > Restart & Run All**.  \n",
    "   Make sure that your notebook runs without errors **in linear order**.\n",
    "1. Remember to rename the notebook as explained at the beginning of this notebook.\n",
    "1. Submit the executed notebook with your work\n",
    "   for the appropriate assignment in **Canvas**.\n",
    "1. In the **Momotor** tab in Canvas,\n",
    "  you can select that assignment again to find some feedback on your submitted work.\n",
    "  If there are any problems reported by _Momotor_,\n",
    "  then you need to fix those,\n",
    "  and **resubmit the fixed notebook**.\n",
    "\n",
    "In case of a high workload on our server\n",
    "(because many students submit close to the deadline),\n",
    "it may take longer to receive the feedback.\n",
    "\n",
    "\n"
   ]
  },
  {
   "cell_type": "markdown",
   "metadata": {},
   "source": [
    "---"
   ]
  },
  {
   "cell_type": "code",
   "execution_count": null,
   "metadata": {},
   "outputs": [],
   "source": [
    "# List all defined names\n",
    "%whos"
   ]
  },
  {
   "cell_type": "markdown",
   "metadata": {},
   "source": [
    "---\n",
    "\n",
    "# (End of Notebook) <span class=\"tocSkip\"></span>\n",
    "\n",
    "&copy; 2017-2023 - **TU/e** - Eindhoven University of Technology"
   ]
  }
 ],
 "metadata": {
  "anaconda-cloud": {},
  "hide_input": false,
  "kernelspec": {
   "display_name": "Python 3 (ipykernel)",
   "language": "python",
   "name": "python3"
  },
  "language_info": {
   "codemirror_mode": {
    "name": "ipython",
    "version": 3
   },
   "file_extension": ".py",
   "mimetype": "text/x-python",
   "name": "python",
   "nbconvert_exporter": "python",
   "pygments_lexer": "ipython3",
   "version": "3.10.13"
  },
  "toc": {
   "base_numbering": 1,
   "nav_menu": {
    "height": "264px",
    "width": "252px"
   },
   "number_sections": false,
   "sideBar": true,
   "skip_h1_title": false,
   "title_cell": "Table of Contents",
   "title_sidebar": "Contents",
   "toc_cell": true,
   "toc_position": {
    "height": "calc(100% - 180px)",
    "left": "10px",
    "top": "150px",
    "width": "234px"
   },
   "toc_section_display": "block",
   "toc_window_display": true
  },
  "vscode": {
   "interpreter": {
    "hash": "60e5673dee0b20898bfa4f3c497959fb0c8d0d39a7f6ea9d7f166a7012267d3f"
   }
  }
 },
 "nbformat": 4,
 "nbformat_minor": 4
}
